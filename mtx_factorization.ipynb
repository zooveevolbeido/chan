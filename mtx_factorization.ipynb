{
  "nbformat": 4,
  "nbformat_minor": 0,
  "metadata": {
    "colab": {
      "provenance": [],
      "authorship_tag": "ABX9TyMetJFwmVkqnvuN0xJn277C",
      "include_colab_link": true
    },
    "kernelspec": {
      "name": "python3",
      "display_name": "Python 3"
    },
    "language_info": {
      "name": "python"
    }
  },
  "cells": [
    {
      "cell_type": "markdown",
      "metadata": {
        "id": "view-in-github",
        "colab_type": "text"
      },
      "source": [
        "<a href=\"https://colab.research.google.com/github/zooveevolbeido/chan/blob/main/mtx_factorization.ipynb\" target=\"_parent\"><img src=\"https://colab.research.google.com/assets/colab-badge.svg\" alt=\"Open In Colab\"/></a>"
      ]
    },
    {
      "cell_type": "code",
      "source": [
        "\n",
        "\n",
        "import numpy as np\n",
        "from sklearn.datasets import load_breast_cancer\n",
        "from sklearn.preprocessing import StandardScaler, LabelEncoder\n",
        "\n",
        "dataset = load_breast_cancer()\n",
        "\n",
        "\n",
        "X = dataset['data']\n",
        "y = dataset['target']\n",
        "\n",
        "#sc = StandardScaler()\n",
        "#X = sc.fit_transform(X)\n",
        "from numpy.linalg import eig\n",
        "#print(X[:,0])\n",
        "\n",
        "#print(y)\n",
        "\n",
        "sc = StandardScaler()\n",
        "X = sc.fit_transform(X)\n",
        "\n",
        "#array0 = []\n",
        "sc.fit(X)\n",
        "scaled_data = sc.transform(X)\n",
        "\n",
        "\n",
        "\n",
        "\n",
        "T = np.transpose\n",
        "\n",
        "from sklearn.model_selection import train_test_split\n",
        "\n",
        "X_train, X_test, y_train, y_test = train_test_split(X, y , test_size=0.2, random_state=90)\n",
        "\n",
        "\n",
        "\n",
        "#################################################\n",
        "\n",
        "T = np.transpose\n",
        "\n",
        "########################################\n",
        "\n",
        "def fit(X, lr, n_iter, k):\n",
        "\n",
        "    P = np.random.rand(len(X), k)\n",
        "    Q = np.random.rand(k, len(X[0]) )\n",
        "    #b = 0\n",
        "    # if we initialized w with zeros, it caused a problem\n",
        "\n",
        "    for _ in range(n_iter):\n",
        "        #predicted = np.dot(X, w) #+ b\n",
        "        #SSR = loss(y, predicted)\n",
        "\n",
        "        #db = 1/len(X) * np.sum(-1*2*( y - predicted  ) )\n",
        "        #b -= lr * db\n",
        "\n",
        "        dP =  2 * np.dot((np.dot(P, Q) - X), T(Q) )\n",
        "        dQ =  2 * np.dot(  T(P)   ,np.dot(P,Q)-X    )\n",
        "        P -= 1/len(X) * lr * dP\n",
        "        Q -= 1/len(X) * lr * dQ\n",
        "\n",
        "    return P, Q#, b, predicted\n",
        "\n",
        "\n",
        "n_iter = 7000\n",
        "lr = 0.03\n",
        "k = 13\n",
        "\n",
        "P,Q = fit(X_train, lr, n_iter, k)\n",
        "#P,Q = fit(X, lr, n_iter, k)\n",
        "\n",
        "\n",
        "#pred_train = fit(X_train, y_train, lr, n_iter)[0]\n",
        "#mse_train = mean_squared_error(y_train, pred_train)\n",
        "#print('mse_train = ',mse_train)\n",
        "\n",
        "\n",
        "###########################################\n",
        "\n",
        "X_trainQ = np.dot(X_train, T(Q))\n",
        "X_testQ = np.dot(X_test, T(Q))\n",
        "\n",
        "\n",
        "######################################\n",
        "\n",
        "from sklearn.linear_model import LogisticRegression\n",
        "from sklearn.neighbors import KNeighborsClassifier\n",
        "neigh = KNeighborsClassifier(n_neighbors=3)\n",
        "neigh.fit(X_trainQ, y_train)\n",
        "\n",
        "\n",
        "#logreg = LogisticRegression()\n",
        "#logreg.fit(X_trainQ, y_train)\n",
        "\n",
        "pred_y = neigh.predict(X_testQ)\n",
        "print('pred_y = ', pred_y)\n",
        "\n",
        "######################################\n",
        "\n",
        "score = 0\n",
        "\n",
        "for i in range(len(pred_y)):\n",
        "    if pred_y[i] == y_test[i]:\n",
        "        score += 1\n",
        "\n",
        "print()\n",
        "print(score/len(pred_y))\n",
        "\n",
        "\n",
        "\n",
        "\n"
      ],
      "metadata": {
        "colab": {
          "base_uri": "https://localhost:8080/"
        },
        "id": "4LdxSz2l_bzS",
        "outputId": "a0f14a38-f345-41dd-90d6-83dec9aa602e"
      },
      "execution_count": null,
      "outputs": [
        {
          "output_type": "stream",
          "name": "stdout",
          "text": [
            "pred_y =  [1 1 1 1 1 1 0 1 1 1 0 1 1 1 0 0 0 0 0 1 0 0 1 0 1 1 1 1 1 1 0 1 0 1 1 1 1\n",
            " 1 1 1 1 0 0 1 0 1 1 1 0 0 1 1 1 1 0 1 1 1 1 1 1 1 1 1 1 1 1 1 1 1 1 1 0 1\n",
            " 0 0 0 0 1 0 1 0 0 0 0 0 0 1 1 1 1 1 0 0 0 0 1 0 0 1 0 1 0 1 1 1 1 0 1 1 1\n",
            " 1 1 0]\n",
            "\n",
            "0.9473684210526315\n"
          ]
        }
      ]
    }
  ]
}